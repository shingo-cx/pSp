{
 "cells": [
  {
   "cell_type": "markdown",
   "id": "edb230d3-5032-4a51-a594-d9147446117e",
   "metadata": {
    "id": "5KAjnN0oBZI4",
    "tags": []
   },
   "source": [
    "## Step 0: import\n",
    "必要なものをインポートする\n",
    "\n"
   ]
  },
  {
   "cell_type": "code",
   "execution_count": 1,
   "id": "0ea846eb-d2de-4bc2-a9ea-70b5d1d05bf6",
   "metadata": {
    "executionInfo": {
     "elapsed": 6,
     "status": "ok",
     "timestamp": 1687419722682,
     "user": {
      "displayName": "吉池慎吾",
      "userId": "02064178927286797553"
     },
     "user_tz": -540
    },
    "id": "Uuviq3qQkUFy"
   },
   "outputs": [],
   "source": [
    "import os\n",
    "CODE_DIR = 'psp'"
   ]
  },
  {
   "cell_type": "code",
   "execution_count": 2,
   "id": "bc8f4f04-b540-48cc-b051-af58044be8a9",
   "metadata": {
    "executionInfo": {
     "elapsed": 91863,
     "status": "ok",
     "timestamp": 1687419818525,
     "user": {
      "displayName": "吉池慎吾",
      "userId": "02064178927286797553"
     },
     "user_tz": -540
    },
    "id": "d13v7In0kTJn"
   },
   "outputs": [],
   "source": [
    "from argparse import Namespace\n",
    "import time\n",
    "import sys\n",
    "import pprint\n",
    "import numpy as np\n",
    "from PIL import Image\n",
    "import torch\n",
    "import torchvision.transforms as transforms\n",
    "import matplotlib.pyplot as plt\n",
    "import cv2\n",
    "\n",
    "sys.path.append(\".\")\n",
    "sys.path.append(\"..\")\n",
    "\n",
    "from datasets import augmentations\n",
    "from utils.common import tensor2im, log_input_image\n",
    "from models.psp import pSp\n",
    "\n",
    "%load_ext autoreload\n",
    "%autoreload 2"
   ]
  },
  {
   "cell_type": "markdown",
   "id": "0c2159b5-448f-4a05-82c1-5dd645d0d928",
   "metadata": {
    "id": "HRjtz6uLkTJs",
    "tags": []
   },
   "source": [
    "## Step 1: Select Experiment Type"
   ]
  },
  {
   "cell_type": "code",
   "execution_count": 3,
   "id": "3b069cef-bd74-4c91-81d5-6f4865884b73",
   "metadata": {
    "cellView": "form",
    "executionInfo": {
     "elapsed": 14,
     "status": "ok",
     "timestamp": 1687419834841,
     "user": {
      "displayName": "吉池慎吾",
      "userId": "02064178927286797553"
     },
     "user_tz": -540
    },
    "id": "0mP14PgismEf"
   },
   "outputs": [],
   "source": [
    "experiment_type = 'ffhq_encode'"
   ]
  },
  {
   "cell_type": "markdown",
   "id": "459b6758-635d-4a19-a28a-0095b8ddbcfd",
   "metadata": {
    "id": "4etDz82xkTJz",
    "tags": []
   },
   "source": [
    "## Step 2: Download Pretrained Models\n",
    "As part of this repository, we provide pretrained models for each of the above experiments. We'll download the model for the selected experiments as save it to the folder `../pretrained_models`."
   ]
  },
  {
   "cell_type": "code",
   "execution_count": 4,
   "id": "2d505d34-5553-4826-a5bf-ee2468e7c831",
   "metadata": {
    "executionInfo": {
     "elapsed": 12,
     "status": "ok",
     "timestamp": 1687419834842,
     "user": {
      "displayName": "吉池慎吾",
      "userId": "02064178927286797553"
     },
     "user_tz": -540
    },
    "id": "KSnjlBZOkTJ0"
   },
   "outputs": [],
   "source": [
    "def get_download_model_command(file_id, file_name):\n",
    "    \"\"\" Get wget download command for downloading the desired model and save to directory ../pretrained_models. \"\"\"\n",
    "    current_directory = os.getcwd()\n",
    "    save_path = os.path.join(os.path.dirname(current_directory), CODE_DIR, \"pretrained_models\")\n",
    "    if not os.path.exists(save_path):\n",
    "        os.makedirs(save_path)\n",
    "    url = r\"\"\"wget --load-cookies /tmp/cookies.txt \"https://docs.google.com/uc?export=download&confirm=$(wget --quiet --save-cookies /tmp/cookies.txt --keep-session-cookies --no-check-certificate 'https://docs.google.com/uc?export=download&id={FILE_ID}' -O- | sed -rn 's/.*confirm=([0-9A-Za-z_]+).*/\\1\\n/p')&id={FILE_ID}\" -O {SAVE_PATH}/{FILE_NAME} && rm -rf /tmp/cookies.txt\"\"\".format(FILE_ID=file_id, FILE_NAME=file_name, SAVE_PATH=save_path)\n",
    "    return url"
   ]
  },
  {
   "cell_type": "code",
   "execution_count": 5,
   "id": "8702b313-27d8-4d70-9042-64ceda6926ce",
   "metadata": {
    "executionInfo": {
     "elapsed": 10,
     "status": "ok",
     "timestamp": 1687419834842,
     "user": {
      "displayName": "吉池慎吾",
      "userId": "02064178927286797553"
     },
     "user_tz": -540
    },
    "id": "m4sjldFMkTJ5"
   },
   "outputs": [],
   "source": [
    "MODEL_PATHS = {\n",
    "    \"ffhq_encode\": {\"id\": \"1bMTNWkh5LArlaWSc_wa8VKyq2V42T2z0\", \"name\": \"psp_ffhq_encode.pt\"},\n",
    "}\n",
    "\n",
    "path = MODEL_PATHS[experiment_type]\n",
    "download_command = get_download_model_command(file_id=path[\"id\"], file_name=path[\"name\"])"
   ]
  },
  {
   "cell_type": "code",
   "execution_count": 6,
   "id": "6e55b3be-bc8e-4a16-94e2-301583cfcea7",
   "metadata": {
    "colab": {
     "base_uri": "https://localhost:8080/"
    },
    "executionInfo": {
     "elapsed": 17123,
     "status": "ok",
     "timestamp": 1687419851956,
     "user": {
      "displayName": "吉池慎吾",
      "userId": "02064178927286797553"
     },
     "user_tz": -540
    },
    "id": "jQ31J_m7kTJ8",
    "outputId": "cca462b1-233f-443e-acf3-00728f9433c7"
   },
   "outputs": [
    {
     "name": "stdout",
     "output_type": "stream",
     "text": [
      "--2023-07-28 22:19:00--  https://docs.google.com/uc?export=download&confirm=t&id=1bMTNWkh5LArlaWSc_wa8VKyq2V42T2z0\n",
      "Resolving docs.google.com (docs.google.com)... 142.250.207.46, 2404:6800:4004:821::200e\n",
      "Connecting to docs.google.com (docs.google.com)|142.250.207.46|:443... connected.\n",
      "HTTP request sent, awaiting response... 303 See Other\n",
      "Location: https://doc-10-0o-docs.googleusercontent.com/docs/securesc/ha0ro937gcuc7l7deffksulhg5h7mbp1/d56r190e6ae77foclhvodm3ddfemnidg/1690550325000/17930361707849974000/*/1bMTNWkh5LArlaWSc_wa8VKyq2V42T2z0?e=download&uuid=8d08f864-afb9-4b99-85e2-2210d02065d4 [following]\n",
      "Warning: wildcards not supported in HTTP.\n",
      "--2023-07-28 22:19:01--  https://doc-10-0o-docs.googleusercontent.com/docs/securesc/ha0ro937gcuc7l7deffksulhg5h7mbp1/d56r190e6ae77foclhvodm3ddfemnidg/1690550325000/17930361707849974000/*/1bMTNWkh5LArlaWSc_wa8VKyq2V42T2z0?e=download&uuid=8d08f864-afb9-4b99-85e2-2210d02065d4\n",
      "Resolving doc-10-0o-docs.googleusercontent.com (doc-10-0o-docs.googleusercontent.com)... 142.251.222.33, 142.250.207.1, 2404:6800:4004:80a::2001, ...\n",
      "Connecting to doc-10-0o-docs.googleusercontent.com (doc-10-0o-docs.googleusercontent.com)|142.251.222.33|:443... connected.\n",
      "HTTP request sent, awaiting response... 200 OK\n",
      "Length: 1201515631 (1.1G) [application/octet-stream]\n",
      "Saving to: ‘/psp/pretrained_models/psp_ffhq_encode.pt’\n",
      "\n",
      "/psp/pretrained_mod 100%[===================>]   1.12G  29.1MB/s    in 46s     \n",
      "\n",
      "2023-07-28 22:19:47 (25.1 MB/s) - ‘/psp/pretrained_models/psp_ffhq_encode.pt’ saved [1201515631/1201515631]\n",
      "\n"
     ]
    }
   ],
   "source": [
    "!{download_command}\n",
    "#1.12Gにならなければ時間を少しおく"
   ]
  },
  {
   "cell_type": "markdown",
   "id": "f4477a27-7871-4811-8e3a-5fc5a82b238b",
   "metadata": {
    "id": "9Tozsg81kTKA",
    "tags": []
   },
   "source": [
    "## Step 3: Define Inference Parameters"
   ]
  },
  {
   "cell_type": "markdown",
   "id": "67fc5eef-7b24-4b76-9b6c-1ee600c95327",
   "metadata": {
    "id": "XIhyc7RqkTKB"
   },
   "source": [
    "Below we have a dictionary defining parameters such as the path to the pretrained model to use and the path to the image to perform inference on.\n",
    "While we provide default values to run this script, feel free to change as needed."
   ]
  },
  {
   "cell_type": "code",
   "execution_count": 7,
   "id": "e6bb5cf9-c092-469c-9169-2fb8f8d59f20",
   "metadata": {
    "executionInfo": {
     "elapsed": 7,
     "status": "ok",
     "timestamp": 1687419851957,
     "user": {
      "displayName": "吉池慎吾",
      "userId": "02064178927286797553"
     },
     "user_tz": -540
    },
    "id": "2kE5y1-skTKC"
   },
   "outputs": [],
   "source": [
    "EXPERIMENT_DATA_ARGS = {\n",
    "    \"ffhq_encode\": {\n",
    "        \"model_path\": \"pretrained_models/psp_ffhq_encode.pt\",\n",
    "        \"transform\": transforms.Compose([\n",
    "            transforms.Resize((256, 256)),\n",
    "            transforms.ToTensor(),\n",
    "            transforms.Normalize([0.5, 0.5, 0.5], [0.5, 0.5, 0.5])])\n",
    "    }\n",
    "}"
   ]
  },
  {
   "cell_type": "code",
   "execution_count": 8,
   "id": "baf6d986-1ad5-40fe-8413-42610e3d2830",
   "metadata": {
    "executionInfo": {
     "elapsed": 6,
     "status": "ok",
     "timestamp": 1687419851957,
     "user": {
      "displayName": "吉池慎吾",
      "userId": "02064178927286797553"
     },
     "user_tz": -540
    },
    "id": "IzUHoD9ukTKG"
   },
   "outputs": [],
   "source": [
    "EXPERIMENT_ARGS = EXPERIMENT_DATA_ARGS[experiment_type]"
   ]
  },
  {
   "cell_type": "markdown",
   "id": "3dbedecd-9789-406f-8dab-b33de0da0051",
   "metadata": {
    "id": "7C8S-rjjarPW"
   },
   "source": [
    "We need to verify that the model was downloaded correctly. All of our models should weigh approximately 1.12GB.\n",
    "Note that if the file weighs several KBs, you most likely encounter a \"quota exceeded\" error from Google Drive. In that case, you should try downloading the model again after a few hours."
   ]
  },
  {
   "cell_type": "code",
   "execution_count": 9,
   "id": "3f396e11-24e3-4801-a753-73fa2d2bd89f",
   "metadata": {
    "executionInfo": {
     "elapsed": 7,
     "status": "ok",
     "timestamp": 1687419851957,
     "user": {
      "displayName": "吉池慎吾",
      "userId": "02064178927286797553"
     },
     "user_tz": -540
    },
    "id": "tdQkdQb-agB9"
   },
   "outputs": [],
   "source": [
    "if os.path.getsize(EXPERIMENT_ARGS['model_path']) < 1000000:\n",
    "  raise ValueError(\"Pretrained model was unable to be downlaoded correctly!\")"
   ]
  },
  {
   "cell_type": "markdown",
   "id": "cd391328-79ce-465a-a84e-79240aadd82d",
   "metadata": {
    "id": "TAWrUehTkTKJ",
    "tags": []
   },
   "source": [
    "## Step 4: Load Pretrained Model\n",
    "We assume that you have downloaded all relevant models and placed them in the directory defined by the above dictionary."
   ]
  },
  {
   "cell_type": "code",
   "execution_count": 10,
   "id": "bb4b70fa-9856-4776-b15a-80dc0a6f5490",
   "metadata": {
    "executionInfo": {
     "elapsed": 811,
     "status": "ok",
     "timestamp": 1687419852763,
     "user": {
      "displayName": "吉池慎吾",
      "userId": "02064178927286797553"
     },
     "user_tz": -540
    },
    "id": "1t-AOhP1kTKJ"
   },
   "outputs": [],
   "source": [
    "model_path = EXPERIMENT_ARGS['model_path']\n",
    "ckpt = torch.load(model_path, map_location='cpu')"
   ]
  },
  {
   "cell_type": "code",
   "execution_count": 11,
   "id": "14988006-045d-4d3e-a950-6c34ee954844",
   "metadata": {
    "colab": {
     "base_uri": "https://localhost:8080/"
    },
    "executionInfo": {
     "elapsed": 440,
     "status": "ok",
     "timestamp": 1687419853194,
     "user": {
      "displayName": "吉池慎吾",
      "userId": "02064178927286797553"
     },
     "user_tz": -540
    },
    "id": "2UBwJ3dJkTKM",
    "outputId": "b8ce6cb0-7030-4ff5-aa0c-42fccf29d2ed"
   },
   "outputs": [
    {
     "name": "stdout",
     "output_type": "stream",
     "text": [
      "{'batch_size': 8,\n",
      " 'board_interval': 50,\n",
      " 'checkpoint_path': None,\n",
      " 'dataset_type': 'ffhq_encode',\n",
      " 'device': 'cuda:0',\n",
      " 'encoder_type': 'GradualStyleEncoder',\n",
      " 'exp_dir': '',\n",
      " 'id_lambda': 0.1,\n",
      " 'image_interval': 100,\n",
      " 'input_nc': 3,\n",
      " 'l2_lambda': 1.0,\n",
      " 'l2_lambda_crop': 0,\n",
      " 'label_nc': 0,\n",
      " 'learn_in_w': False,\n",
      " 'learning_rate': 0.0001,\n",
      " 'lpips_lambda': 0.8,\n",
      " 'lpips_lambda_crop': 0,\n",
      " 'max_steps': 300000,\n",
      " 'optim_name': 'ranger',\n",
      " 'resize_factors': None,\n",
      " 'save_interval': 1000,\n",
      " 'start_from_latent_avg': True,\n",
      " 'stylegan_weights': '',\n",
      " 'test_batch_size': 8,\n",
      " 'test_workers': 2,\n",
      " 'train_decoder': False,\n",
      " 'val_interval': 2500,\n",
      " 'w_norm_lambda': 0,\n",
      " 'workers': 8}\n"
     ]
    }
   ],
   "source": [
    "opts = ckpt['opts']\n",
    "pprint.pprint(opts)"
   ]
  },
  {
   "cell_type": "code",
   "execution_count": 12,
   "id": "a2a8b576-0f25-4db1-9e91-c4c5465a08e7",
   "metadata": {
    "executionInfo": {
     "elapsed": 7,
     "status": "ok",
     "timestamp": 1687419853195,
     "user": {
      "displayName": "吉池慎吾",
      "userId": "02064178927286797553"
     },
     "user_tz": -540
    },
    "id": "EMKhWoFKkTKS"
   },
   "outputs": [],
   "source": [
    "# update the training options\n",
    "opts['checkpoint_path'] = model_path\n",
    "if 'learn_in_w' not in opts:\n",
    "    opts['learn_in_w'] = False\n",
    "if 'output_size' not in opts:\n",
    "    opts['output_size'] = 1024"
   ]
  },
  {
   "cell_type": "code",
   "execution_count": 13,
   "id": "d0d826ff-5d57-4bea-9a66-4f79bd27e3a9",
   "metadata": {
    "colab": {
     "base_uri": "https://localhost:8080/"
    },
    "executionInfo": {
     "elapsed": 9350,
     "status": "ok",
     "timestamp": 1687419862540,
     "user": {
      "displayName": "吉池慎吾",
      "userId": "02064178927286797553"
     },
     "user_tz": -540
    },
    "id": "6hccfNizkTKW",
    "outputId": "583847ae-8dae-4a35-da41-9c1058066be0"
   },
   "outputs": [
    {
     "name": "stdout",
     "output_type": "stream",
     "text": [
      "Loading pSp from checkpoint: pretrained_models/psp_ffhq_encode.pt\n",
      "Model successfully loaded!\n"
     ]
    }
   ],
   "source": [
    "opts = Namespace(**opts)\n",
    "net = pSp(opts)\n",
    "net.eval()\n",
    "net.cuda()\n",
    "print('Model successfully loaded!')"
   ]
  }
 ],
 "metadata": {
  "kernelspec": {
   "display_name": "psp_env",
   "language": "python",
   "name": "psp_env"
  },
  "language_info": {
   "codemirror_mode": {
    "name": "ipython",
    "version": 3
   },
   "file_extension": ".py",
   "mimetype": "text/x-python",
   "name": "python",
   "nbconvert_exporter": "python",
   "pygments_lexer": "ipython3",
   "version": "3.6.7"
  }
 },
 "nbformat": 4,
 "nbformat_minor": 5
}
